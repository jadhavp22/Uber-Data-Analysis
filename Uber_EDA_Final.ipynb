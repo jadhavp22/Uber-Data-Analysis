{
 "cells": [
  {
   "cell_type": "code",
   "execution_count": null,
   "metadata": {
    "id": "I1apcow5dxii"
   },
   "outputs": [],
   "source": []
  },
  {
   "cell_type": "markdown",
   "metadata": {
    "id": "vncDsAP0Gaoa"
   },
   "source": [
    "# **Project Name**    - Uber Supply Demand Gap\n"
   ]
  },
  {
   "cell_type": "markdown",
   "metadata": {
    "id": "beRrZCGUAJYm"
   },
   "source": [
    "##### **Project Type**    - EDA\n",
    "##### **Contribution**    - Individual\n",
    "##### **Team Member 1 -** - Prasad Anil Jadhav\n"
   ]
  },
  {
   "cell_type": "markdown",
   "metadata": {
    "id": "FJNUwmbgGyua"
   },
   "source": [
    "# **Project Summary -**"
   ]
  },
  {
   "cell_type": "markdown",
   "metadata": {
    "id": "F6v_1wHtG2nS"
   },
   "source": [
    "In this project, I analyzed Uber ride request data to identify patterns behind the supply-demand gap, focusing on issues like cancelled rides and \"No Cars Available\" responses. I started by cleaning the dataset in Excel—standardizing timestamps, handling missing values, and creating additional columns such as hour, day of the week, and time slot to enhance data clarity. Then, I used SQL to generate summaries like cancellations by hour and status counts by pickup point, exporting the results into CSV files. These files were visualized through a dynamic Excel dashboard using charts and slicers, allowing an interactive exploration of when and where ride failures occurred. To ensure accuracy, I also performed exploratory data analysis (EDA) using Python libraries like Pandas and Seaborn within VS Code. The analysis showed that most cancellations happen during early morning hours (5–9 AM), while \"No Cars Available\" issues peak late at night, especially around airport pickups. Based on these insights, I suggested practical actions such as incentivizing drivers during critical time slots, planning dedicated shifts, and using predictive analytics for better vehicle availability. This end-to-end project, using Excel, SQL, and Python, aimed to improve ride fulfillment rates and enhance overall service efficiency."
   ]
  },
  {
   "cell_type": "markdown",
   "metadata": {
    "id": "w6K7xa23Elo4"
   },
   "source": [
    "# **GitHub Link -**"
   ]
  },
  {
   "cell_type": "markdown",
   "metadata": {
    "id": "h1o69JH3Eqqn"
   },
   "source": [
    "Provide your GitHub Link here."
   ]
  },
  {
   "cell_type": "markdown",
   "metadata": {
    "id": "yQaldy8SH6Dl"
   },
   "source": [
    "# **Problem Statement**\n"
   ]
  },
  {
   "cell_type": "markdown",
   "metadata": {
    "id": "DpeJGUA3kjGy"
   },
   "source": [
    "Many people using Uber often face a frustrating issue — they try to book a ride, but the request gets cancelled or no cars are available. This happens more during certain times of the day or in specific locations. In this project, I tried to find out exactly when and where these problems happen the most. By studying the data, my goal was to understand the pattern behind ride failures and help Uber improve its service — so fewer people are left without a ride, and drivers can earn better by being in the right place at the right time."
   ]
  },
  {
   "cell_type": "markdown",
   "metadata": {
    "id": "PH-0ReGfmX4f"
   },
   "source": [
    "#### **Define Your Business Objective?**"
   ]
  },
  {
   "cell_type": "markdown",
   "metadata": {
    "id": "PhDvGCAqmjP1"
   },
   "source": [
    "The main goal of this project is to help Uber reduce the number of ride requests that fail due to cancellations or no cars being available.\n",
    "By identifying when and where these failures happen the most, the company can improve driver allocation, increase customer satisfaction, and reduce lost revenue.\n",
    "This project aims to give data-driven insights that help Uber better match supply with demand."
   ]
  },
  {
   "cell_type": "markdown",
   "metadata": {
    "id": "mDgbUHAGgjLW"
   },
   "source": [
    "# **General Guidelines** : -  "
   ]
  },
  {
   "cell_type": "markdown",
   "metadata": {
    "id": "ZrxVaUj-hHfC"
   },
   "source": [
    "1.   Well-structured, formatted, and commented code is required.\n",
    "2.   Exception Handling, Production Grade Code & Deployment Ready Code will be a plus. Those students will be awarded some additional credits.\n",
    "     \n",
    "     The additional credits will have advantages over other students during Star Student selection.\n",
    "       \n",
    "             [ Note: - Deployment Ready Code is defined as, the whole .ipynb notebook should be executable in one go\n",
    "                       without a single error logged. ]\n",
    "\n",
    "3.   Each and every logic should have proper comments.\n",
    "4. You may add as many number of charts you want. Make Sure for each and every chart the following format should be answered.\n",
    "        \n",
    "\n",
    "```\n",
    "# Chart visualization code\n",
    "```\n",
    "            \n",
    "\n",
    "*   Why did you pick the specific chart?\n",
    "*   What is/are the insight(s) found from the chart?\n",
    "* Will the gained insights help creating a positive business impact?\n",
    "Are there any insights that lead to negative growth? Justify with specific reason.\n",
    "\n",
    "5. You have to create at least 20 logical & meaningful charts having important insights.\n",
    "\n",
    "\n",
    "[ Hints : - Do the Vizualization in  a structured way while following \"UBM\" Rule.\n",
    "\n",
    "U - Univariate Analysis,\n",
    "\n",
    "B - Bivariate Analysis (Numerical - Categorical, Numerical - Numerical, Categorical - Categorical)\n",
    "\n",
    "M - Multivariate Analysis\n",
    " ]\n",
    "\n",
    "\n",
    "\n"
   ]
  },
  {
   "cell_type": "markdown",
   "metadata": {
    "id": "O_i_v8NEhb9l"
   },
   "source": [
    "# ***Let's Begin !***"
   ]
  },
  {
   "cell_type": "markdown",
   "metadata": {
    "id": "HhfV-JJviCcP"
   },
   "source": [
    "## ***1. Know Your Data***"
   ]
  },
  {
   "cell_type": "markdown",
   "metadata": {
    "id": "Y3lxredqlCYt"
   },
   "source": [
    "### Import Libraries"
   ]
  },
  {
   "cell_type": "code",
   "execution_count": 5,
   "metadata": {
    "id": "M8Vqi-pPk-HR"
   },
   "outputs": [],
   "source": [
    "# Import Libraries\n",
    "import pandas as pd\n",
    "import matplotlib.pyplot as plt\n",
    "import seaborn as sns\n",
    "\n",
    "sns.set_style(\"whitegrid\")"
   ]
  },
  {
   "cell_type": "markdown",
   "metadata": {
    "id": "3RnN4peoiCZX"
   },
   "source": [
    "### Dataset Loading"
   ]
  },
  {
   "cell_type": "code",
   "execution_count": 11,
   "metadata": {
    "id": "4CkvbW_SlZ_R"
   },
   "outputs": [],
   "source": [
    "# Load Dataset\n",
    "df = pd.read_csv(r\"C:\\Users\\PRASAD\\Documents\\Uber_EDA_Project\\uber_cleaned_final.csv\", encoding='ISO-8859-1')\n"
   ]
  },
  {
   "cell_type": "markdown",
   "metadata": {
    "id": "x71ZqKXriCWQ"
   },
   "source": [
    "### Dataset First View"
   ]
  },
  {
   "cell_type": "code",
   "execution_count": 12,
   "metadata": {
    "id": "LWNFOSvLl09H"
   },
   "outputs": [
    {
     "data": {
      "text/html": [
       "<div>\n",
       "<style scoped>\n",
       "    .dataframe tbody tr th:only-of-type {\n",
       "        vertical-align: middle;\n",
       "    }\n",
       "\n",
       "    .dataframe tbody tr th {\n",
       "        vertical-align: top;\n",
       "    }\n",
       "\n",
       "    .dataframe thead th {\n",
       "        text-align: right;\n",
       "    }\n",
       "</style>\n",
       "<table border=\"1\" class=\"dataframe\">\n",
       "  <thead>\n",
       "    <tr style=\"text-align: right;\">\n",
       "      <th></th>\n",
       "      <th>ï»¿Request id</th>\n",
       "      <th>Pickup point</th>\n",
       "      <th>Driver id</th>\n",
       "      <th>Status</th>\n",
       "      <th>Request timestamp</th>\n",
       "      <th>Drop timestamp</th>\n",
       "      <th>Assigned status</th>\n",
       "      <th>Hour</th>\n",
       "      <th>DayOfWeek</th>\n",
       "      <th>TimeSlot</th>\n",
       "    </tr>\n",
       "  </thead>\n",
       "  <tbody>\n",
       "    <tr>\n",
       "      <th>0</th>\n",
       "      <td>619</td>\n",
       "      <td>Airport</td>\n",
       "      <td>1.0</td>\n",
       "      <td>Trip Completed</td>\n",
       "      <td>11-07-2016 11:51</td>\n",
       "      <td>11-07-2016 13:00</td>\n",
       "      <td>Assigned</td>\n",
       "      <td>11</td>\n",
       "      <td>Monday</td>\n",
       "      <td>Morning</td>\n",
       "    </tr>\n",
       "    <tr>\n",
       "      <th>1</th>\n",
       "      <td>867</td>\n",
       "      <td>Airport</td>\n",
       "      <td>1.0</td>\n",
       "      <td>Trip Completed</td>\n",
       "      <td>11-07-2016 17:57</td>\n",
       "      <td>11-07-2016 18:47</td>\n",
       "      <td>Assigned</td>\n",
       "      <td>17</td>\n",
       "      <td>Monday</td>\n",
       "      <td>Evening</td>\n",
       "    </tr>\n",
       "    <tr>\n",
       "      <th>2</th>\n",
       "      <td>1807</td>\n",
       "      <td>City</td>\n",
       "      <td>1.0</td>\n",
       "      <td>Trip Completed</td>\n",
       "      <td>12-07-2016 09:17</td>\n",
       "      <td>12-07-2016 09:58</td>\n",
       "      <td>Assigned</td>\n",
       "      <td>9</td>\n",
       "      <td>Tuesday</td>\n",
       "      <td>Early Morning</td>\n",
       "    </tr>\n",
       "    <tr>\n",
       "      <th>3</th>\n",
       "      <td>2532</td>\n",
       "      <td>Airport</td>\n",
       "      <td>1.0</td>\n",
       "      <td>Trip Completed</td>\n",
       "      <td>12-07-2016 21:08</td>\n",
       "      <td>12-07-2016 22:03</td>\n",
       "      <td>Assigned</td>\n",
       "      <td>21</td>\n",
       "      <td>Tuesday</td>\n",
       "      <td>Night</td>\n",
       "    </tr>\n",
       "    <tr>\n",
       "      <th>4</th>\n",
       "      <td>3112</td>\n",
       "      <td>City</td>\n",
       "      <td>1.0</td>\n",
       "      <td>Trip Completed</td>\n",
       "      <td>13-07-2016 08:33</td>\n",
       "      <td>13-07-2016 09:25</td>\n",
       "      <td>Assigned</td>\n",
       "      <td>8</td>\n",
       "      <td>Wednesday</td>\n",
       "      <td>Early Morning</td>\n",
       "    </tr>\n",
       "  </tbody>\n",
       "</table>\n",
       "</div>"
      ],
      "text/plain": [
       "   ï»¿Request id Pickup point  Driver id          Status Request timestamp  \\\n",
       "0            619      Airport        1.0  Trip Completed  11-07-2016 11:51   \n",
       "1            867      Airport        1.0  Trip Completed  11-07-2016 17:57   \n",
       "2           1807         City        1.0  Trip Completed  12-07-2016 09:17   \n",
       "3           2532      Airport        1.0  Trip Completed  12-07-2016 21:08   \n",
       "4           3112         City        1.0  Trip Completed  13-07-2016 08:33   \n",
       "\n",
       "     Drop timestamp Assigned status  Hour  DayOfWeek       TimeSlot  \n",
       "0  11-07-2016 13:00        Assigned    11     Monday        Morning  \n",
       "1  11-07-2016 18:47        Assigned    17     Monday        Evening  \n",
       "2  12-07-2016 09:58        Assigned     9    Tuesday  Early Morning  \n",
       "3  12-07-2016 22:03        Assigned    21    Tuesday          Night  \n",
       "4  13-07-2016 09:25        Assigned     8  Wednesday  Early Morning  "
      ]
     },
     "execution_count": 12,
     "metadata": {},
     "output_type": "execute_result"
    }
   ],
   "source": [
    "# Dataset First Look\n",
    "df.head()"
   ]
  },
  {
   "cell_type": "markdown",
   "metadata": {
    "id": "7hBIi_osiCS2"
   },
   "source": [
    "### Dataset Rows & Columns count"
   ]
  },
  {
   "cell_type": "code",
   "execution_count": 13,
   "metadata": {
    "id": "Kllu7SJgmLij"
   },
   "outputs": [
    {
     "data": {
      "text/plain": [
       "(6745, 10)"
      ]
     },
     "execution_count": 13,
     "metadata": {},
     "output_type": "execute_result"
    }
   ],
   "source": [
    "# Dataset Rows & Columns count\n",
    "df.shape"
   ]
  },
  {
   "cell_type": "markdown",
   "metadata": {
    "id": "JlHwYmJAmNHm"
   },
   "source": [
    "### Dataset Information"
   ]
  },
  {
   "cell_type": "code",
   "execution_count": 14,
   "metadata": {
    "id": "e9hRXRi6meOf"
   },
   "outputs": [
    {
     "name": "stdout",
     "output_type": "stream",
     "text": [
      "<class 'pandas.core.frame.DataFrame'>\n",
      "RangeIndex: 6745 entries, 0 to 6744\n",
      "Data columns (total 10 columns):\n",
      " #   Column             Non-Null Count  Dtype  \n",
      "---  ------             --------------  -----  \n",
      " 0   ï»¿Request id      6745 non-null   int64  \n",
      " 1   Pickup point       6745 non-null   object \n",
      " 2   Driver id          4095 non-null   float64\n",
      " 3   Status             6745 non-null   object \n",
      " 4   Request timestamp  6745 non-null   object \n",
      " 5   Drop timestamp     2831 non-null   object \n",
      " 6   Assigned status    6745 non-null   object \n",
      " 7   Hour               6745 non-null   int64  \n",
      " 8   DayOfWeek          6745 non-null   object \n",
      " 9   TimeSlot           6745 non-null   object \n",
      "dtypes: float64(1), int64(2), object(7)\n",
      "memory usage: 527.1+ KB\n"
     ]
    }
   ],
   "source": [
    "# Dataset Info\n",
    "df.columns   # To see all column names\n",
    "df.info()    # To see data types and non-null counts"
   ]
  },
  {
   "cell_type": "markdown",
   "metadata": {
    "id": "35m5QtbWiB9F"
   },
   "source": [
    "#### Duplicate Values"
   ]
  },
  {
   "cell_type": "code",
   "execution_count": 15,
   "metadata": {
    "id": "1sLdpKYkmox0"
   },
   "outputs": [
    {
     "data": {
      "text/plain": [
       "np.int64(0)"
      ]
     },
     "execution_count": 15,
     "metadata": {},
     "output_type": "execute_result"
    }
   ],
   "source": [
    "# Dataset Duplicate Value Count\n",
    "df.duplicated().sum()"
   ]
  },
  {
   "cell_type": "markdown",
   "metadata": {
    "id": "PoPl-ycgm1ru"
   },
   "source": [
    "#### Missing Values/Null Values"
   ]
  },
  {
   "cell_type": "code",
   "execution_count": 16,
   "metadata": {
    "id": "GgHWkxvamxVg"
   },
   "outputs": [
    {
     "data": {
      "text/plain": [
       "ï»¿Request id           0\n",
       "Pickup point            0\n",
       "Driver id            2650\n",
       "Status                  0\n",
       "Request timestamp       0\n",
       "Drop timestamp       3914\n",
       "Assigned status         0\n",
       "Hour                    0\n",
       "DayOfWeek               0\n",
       "TimeSlot                0\n",
       "dtype: int64"
      ]
     },
     "execution_count": 16,
     "metadata": {},
     "output_type": "execute_result"
    }
   ],
   "source": [
    "# Missing Values/Null Values Count\n",
    "df.isnull().sum()"
   ]
  },
  {
   "cell_type": "markdown",
   "metadata": {
    "id": "H0kj-8xxnORC"
   },
   "source": [
    "### What did you know about your dataset?"
   ]
  },
  {
   "cell_type": "markdown",
   "metadata": {
    "id": "gfoNAAC-nUe_"
   },
   "source": [
    "The dataset contains ride request records from a cab service app. It includes details such as the pickup point (Airport or City), driver ID, request and drop timestamps, status of the ride (Trip Completed, Cancelled, or No Cars Available), and time-based features like Hour, Day of Week, and Time Slot. From initial exploration, the dataset has 6745 records, with no missing values in key columns. It shows clear demand-supply gaps during certain peak hours and locations, especially with a high number of cancellations or unavailability of cars. This makes it suitable for Exploratory Data Analysis (EDA) to understand patterns, peak load times, and operational inefficiencies in the cab system."
   ]
  },
  {
   "cell_type": "markdown",
   "metadata": {
    "id": "nA9Y7ga8ng1Z"
   },
   "source": [
    "## ***2. Understanding Your Variables***"
   ]
  },
  {
   "cell_type": "code",
   "execution_count": 17,
   "metadata": {
    "id": "j7xfkqrt5Ag5"
   },
   "outputs": [
    {
     "data": {
      "text/plain": [
       "['ï»¿Request id',\n",
       " 'Pickup point',\n",
       " 'Driver id',\n",
       " 'Status',\n",
       " 'Request timestamp',\n",
       " 'Drop timestamp',\n",
       " 'Assigned status',\n",
       " 'Hour',\n",
       " 'DayOfWeek',\n",
       " 'TimeSlot']"
      ]
     },
     "execution_count": 17,
     "metadata": {},
     "output_type": "execute_result"
    }
   ],
   "source": [
    "# Show all column names\n",
    "df.columns.tolist()"
   ]
  },
  {
   "cell_type": "markdown",
   "metadata": {
    "id": "PBTbrJXOngz2"
   },
   "source": [
    "### Variables Description"
   ]
  },
  {
   "cell_type": "markdown",
   "metadata": {
    "id": "aJV4KIxSnxay"
   },
   "source": [
    "This dataset has different columns that tell the story of each cab booking. Here's what each one means:\n",
    "\n",
    "Request ID: A special number given to every ride request to keep it unique.\n",
    "\n",
    "Pickup Point: Where the customer wanted to be picked up from — either the City or the Airport.\n",
    "\n",
    "Driver ID: The unique ID of the driver who accepted (or didn't accept) the ride.\n",
    "\n",
    "Status: The final outcome of the request — whether the trip was completed, cancelled, or no car was available.\n",
    "\n",
    "Request Timestamp: The exact date and time when the customer made the booking request.\n",
    "\n",
    "Drop Timestamp: The time when the customer was dropped at the destination (only filled if the trip actually happened).\n",
    "\n",
    "Assigned Status: Tells us if a driver was assigned to the ride or not.\n",
    "\n",
    "Hour: The hour of the day when the ride was requested — helps identify peak and off-peak times.\n",
    "\n",
    "DayOfWeek: The day the ride was booked — like Monday, Friday, or Sunday.\n",
    "\n",
    "TimeSlot: Groups hours into broader time blocks like Morning, Afternoon, Evening, or Night to spot patterns easily."
   ]
  },
  {
   "cell_type": "markdown",
   "metadata": {
    "id": "u3PMJOP6ngxN"
   },
   "source": [
    "### Check Unique Values for each variable."
   ]
  },
  {
   "cell_type": "code",
   "execution_count": 20,
   "metadata": {
    "id": "zms12Yq5n-jE"
   },
   "outputs": [
    {
     "data": {
      "text/plain": [
       "ï»¿Request id        6745\n",
       "Pickup point            2\n",
       "Driver id             300\n",
       "Status                  3\n",
       "Request timestamp    4016\n",
       "Drop timestamp       2282\n",
       "Assigned status         2\n",
       "Hour                   24\n",
       "DayOfWeek               5\n",
       "TimeSlot                6\n",
       "dtype: int64"
      ]
     },
     "execution_count": 20,
     "metadata": {},
     "output_type": "execute_result"
    }
   ],
   "source": [
    "# Check Unique Values for each variable.\n",
    "# How many distinct (unique) values does each column have?\n",
    "df.nunique()"
   ]
  },
  {
   "cell_type": "markdown",
   "metadata": {
    "id": "dauF4eBmngu3"
   },
   "source": [
    "## 3. ***Data Wrangling***"
   ]
  },
  {
   "cell_type": "markdown",
   "metadata": {
    "id": "bKJF3rekwFvQ"
   },
   "source": [
    "### Data Wrangling Code"
   ]
  },
  {
   "cell_type": "code",
   "execution_count": 22,
   "metadata": {
    "id": "wk-9a2fpoLcV"
   },
   "outputs": [],
   "source": [
    "# Write your code to make your dataset analysis ready.\n",
    "# Convert timestamps to datetime format\n",
    "df['Request timestamp'] = pd.to_datetime(df['Request timestamp'], dayfirst=True)\n",
    "df['Drop timestamp'] = pd.to_datetime(df['Drop timestamp'], dayfirst=True)\n",
    "\n",
    "# Check for and remove duplicate rows if any\n",
    "df = df.drop_duplicates()\n",
    "\n",
    "# Handle missing values (if any) — you can choose to drop or fill\n",
    "df = df.dropna(subset=['Pickup point', 'Status', 'Request timestamp'])  # drop rows with essential missing values\n",
    "\n",
    "# Create new columns for better analysis\n",
    "df['Request date'] = df['Request timestamp'].dt.date\n",
    "df['Request hour'] = df['Request timestamp'].dt.hour\n",
    "df['Request day'] = df['Request timestamp'].dt.day_name()\n",
    "\n",
    "# Fix any inconsistent casing (if needed)\n",
    "df['Status'] = df['Status'].str.title()  # Makes 'cancelled' → 'Cancelled'\n",
    "\n",
    "# Reset index after cleaning\n",
    "df.reset_index(drop=True, inplace=True)"
   ]
  },
  {
   "cell_type": "markdown",
   "metadata": {
    "id": "MSa1f5Uengrz"
   },
   "source": [
    "### What all manipulations have you done and insights you found?"
   ]
  },
  {
   "cell_type": "markdown",
   "metadata": {
    "id": "LbyXE7I1olp8"
   },
   "source": [
    "Manipulations Performed :- \n",
    "-Converted Request timestamp and Drop timestamp columns to proper datetime format for time-based analysis.\n",
    "-Removed duplicate records to ensure clean, non-redundant data.\n",
    "-Dropped rows with missing values in essential columns like Pickup point, Status, and Request timestamp.\n",
    "-Created new columns like Request hour and Request day to identify time-based patterns.\n",
    "-Standardized the format of the Status column for consistency.\n",
    "\n",
    "Insights Found :- \n",
    "-A large number of ride requests were either cancelled or had no cars available during morning and evening peak hours.\n",
    "-City pickup points faced higher issues with car unavailability compared to the airport.\n",
    "-Friday and Monday showed a spike in failed trips, possibly due to high demand at the start and end of the workweek.\n",
    "-Most successful trips happened during midday and late afternoon, indicating better supply during non-peak times.\n",
    "\n"
   ]
  },
  {
   "cell_type": "markdown",
   "metadata": {
    "id": "GF8Ens_Soomf"
   },
   "source": [
    "## ***4. Data Vizualization, Storytelling & Experimenting with charts : Understand the relationships between variables***"
   ]
  },
  {
   "cell_type": "markdown",
   "metadata": {
    "id": "0wOQAZs5pc--"
   },
   "source": [
    "#### Chart - 1"
   ]
  },
  {
   "cell_type": "code",
   "execution_count": 23,
   "metadata": {
    "id": "7v_ESjsspbW7"
   },
   "outputs": [
    {
     "data": {
      "image/png": "[encoded data removed]",
      "text/plain": [
       "<Figure size 800x500 with 1 Axes>"
      ]
     },
     "metadata": {},
     "output_type": "display_data"
    }
   ],
   "source": [
    "# Chart - 1 visualization code\n",
    "# Chart 1 – Pickup Point vs Time Slot  ▸ shows total requests grouped by pickup location and time of day\n",
    "plt.figure(figsize=(8,5))\n",
    "sns.countplot(\n",
    "    data=df,\n",
    "    x=\"TimeSlot\",\n",
    "    hue=\"Pickup point\",\n",
    "    order=[\"Early Morning\",\"Morning\",\"Afternoon\",\"Evening\",\"Night\",\"Late Night\"]\n",
    ")\n",
    "plt.xticks(rotation=15)\n",
    "plt.title(\"Pickup Point vs Time Slot – Total Requests\")\n",
    "plt.ylabel(\"Number of Requests\")\n",
    "plt.xlabel(\"Time Slot\")\n",
    "plt.legend(title=\"Pickup Point\")\n",
    "plt.show()\n"
   ]
  },
  {
   "cell_type": "markdown",
   "metadata": {
    "id": "K5QZ13OEpz2H"
   },
   "source": [
    "##### 1. Why did you pick the specific chart?"
   ]
  },
  {
   "cell_type": "markdown",
   "metadata": {
    "id": "XESiWehPqBRc"
   },
   "source": [
    "A grouped column chart is the quickest way to compare two categorical variables side‑by‑side. It lets me see, at a glance, how demand at the Airport stacks up against demand in the City during each time period of the day."
   ]
  },
  {
   "cell_type": "markdown",
   "metadata": {
    "id": "lQ7QKXXCp7Bj"
   },
   "source": [
    "##### 2. What is/are the insight(s) found from the chart?"
   ]
  },
  {
   "cell_type": "markdown",
   "metadata": {
    "id": "C_j1G7yiqdRP"
   },
   "source": [
    "Airport requests surge late at night and in the very early morning, while City requests peak during the normal commute windows (morning and evening). The two locations clearly follow different demand curves."
   ]
  },
  {
   "cell_type": "markdown",
   "metadata": {
    "id": "448CDAPjqfQr"
   },
   "source": [
    "##### 3. Will the gained insights help creating a positive business impact?\n",
    "Are there any insights that lead to negative growth? Justify with specific reason."
   ]
  },
  {
   "cell_type": "markdown",
   "metadata": {
    "id": "3cspy4FjqxJW"
   },
   "source": [
    "Airport requests surge late at night and in the very early morning, while City requests peak during the normal commute windows (morning and evening). The two locations clearly follow different demand curves."
   ]
  },
  {
   "cell_type": "markdown",
   "metadata": {
    "id": "KSlN3yHqYklG"
   },
   "source": [
    "#### Chart - 2"
   ]
  },
  {
   "cell_type": "code",
   "execution_count": 24,
   "metadata": {
    "id": "R4YgtaqtYklH"
   },
   "outputs": [
    {
     "data": {
      "image/png": "[encoded data removed]",
      "text/plain": [
       "<Figure size 1000x500 with 1 Axes>"
      ]
     },
     "metadata": {},
     "output_type": "display_data"
    }
   ],
   "source": [
    "# Chart - 2 visualization code\n",
    "day_order = [\"Monday\",\"Tuesday\",\"Wednesday\",\"Thursday\",\"Friday\",\"Saturday\",\"Sunday\"]\n",
    "status_day = (\n",
    "    df.groupby([\"DayOfWeek\",\"Status\"])\n",
    "      .size()\n",
    "      .unstack(fill_value=0)\n",
    "      .reindex(day_order)\n",
    ")\n",
    "\n",
    "status_day.plot(kind=\"area\", stacked=True, figsize=(10,5))\n",
    "plt.title(\"Ride Status by Day of Week\")\n",
    "plt.ylabel(\"Number of Requests\")\n",
    "plt.xlabel(\"Day of Week\")\n",
    "plt.legend(title=\"Status\")\n",
    "plt.show()"
   ]
  },
  {
   "cell_type": "markdown",
   "metadata": {
    "id": "t6dVpIINYklI"
   },
   "source": [
    "##### 1. Why did you pick the specific chart?"
   ]
  },
  {
   "cell_type": "markdown",
   "metadata": {
    "id": "5aaW0BYyYklI"
   },
   "source": [
    "A stacked area chart shows total volume and the mix of statuses in one picture, letting me spot both overall peaks and the changing proportions of “Completed,” “Cancelled,” and “No Cars.”"
   ]
  },
  {
   "cell_type": "markdown",
   "metadata": {
    "id": "ijmpgYnKYklI"
   },
   "source": [
    "##### 2. What is/are the insight(s) found from the chart?"
   ]
  },
  {
   "cell_type": "markdown",
   "metadata": {
    "id": "PSx9atu2YklI"
   },
   "source": [
    "Cancellations shoot up around 5–9 AM, while “No Cars Available” becomes the leading issue after 10 PM. Completed trips dominate midday."
   ]
  },
  {
   "cell_type": "markdown",
   "metadata": {
    "id": "-JiQyfWJYklI"
   },
   "source": [
    "##### 3. Will the gained insights help creating a positive business impact?\n",
    "Are there any insights that lead to negative growth? Justify with specific reason."
   ]
  },
  {
   "cell_type": "markdown",
   "metadata": {
    "id": "BcBbebzrYklV"
   },
   "source": [
    "Targeted incentives can be offered to drivers during the cancellation spike (early morning) and the late‑night shortage window, directly attacking the two worst pain points."
   ]
  },
  {
   "cell_type": "markdown",
   "metadata": {
    "id": "EM7whBJCYoAo"
   },
   "source": [
    "#### Chart - 3"
   ]
  },
  {
   "cell_type": "code",
   "execution_count": 25,
   "metadata": {
    "id": "t6GMdE67YoAp"
   },
   "outputs": [
    {
     "data": {
      "image/png": "[encoded data removed]",
      "text/plain": [
       "<Figure size 900x500 with 1 Axes>"
      ]
     },
     "metadata": {},
     "output_type": "display_data"
    }
   ],
   "source": [
    "# Chart - 3 visualization code\n",
    "plt.figure(figsize=(9,5))\n",
    "sns.countplot(\n",
    "    data=df,\n",
    "    x=\"Status\",\n",
    "    hue=\"TimeSlot\",\n",
    "    order=[\"Trip Completed\",\"Cancelled\",\"No Cars Available\"],\n",
    "    hue_order=[\"Early Morning\",\"Morning\",\"Afternoon\",\"Evening\",\"Night\",\"Late Night\"]\n",
    ")\n",
    "plt.title(\"Status Breakdown across Time Slots\")\n",
    "plt.ylabel(\"Number of Requests\")\n",
    "plt.xlabel(\"Ride Status\")\n",
    "plt.legend(title=\"Time Slot\", bbox_to_anchor=(1.05,1), loc=\"upper left\")\n",
    "plt.show()"
   ]
  },
  {
   "cell_type": "markdown",
   "metadata": {
    "id": "fge-S5ZAYoAp"
   },
   "source": [
    "##### 1. Why did you pick the specific chart?"
   ]
  },
  {
   "cell_type": "markdown",
   "metadata": {
    "id": "5dBItgRVYoAp"
   },
   "source": [
    "A simple vertical bar chart breaks down the number of requests in each status bucket, providing a clear snapshot of overall success vs failure."
   ]
  },
  {
   "cell_type": "markdown",
   "metadata": {
    "id": "85gYPyotYoAp"
   },
   "source": [
    "##### 2. What is/are the insight(s) found from the chart?"
   ]
  },
  {
   "cell_type": "markdown",
   "metadata": {
    "id": "4jstXR6OYoAp"
   },
   "source": [
    "“Trip Completed” is still the largest category, but problem rides (Cancelled + No Cars) together represent a sizable chunk of total requests—large enough to warrant serious attention."
   ]
  },
  {
   "cell_type": "markdown",
   "metadata": {
    "id": "RoGjAbkUYoAp"
   },
   "source": [
    "##### 3. Will the gained insights help creating a positive business impact?\n",
    "Are there any insights that lead to negative growth? Justify with specific reason."
   ]
  },
  {
   "cell_type": "markdown",
   "metadata": {
    "id": "zfJ8IqMcYoAp"
   },
   "source": [
    "Quantifying the failure share justifies investment in driver incentives or algorithm tweaks, because every prevented failure converts directly into additional revenue."
   ]
  },
  {
   "cell_type": "markdown",
   "metadata": {
    "id": "4Of9eVA-YrdM"
   },
   "source": [
    "#### Chart - 4"
   ]
  },
  {
   "cell_type": "code",
   "execution_count": 26,
   "metadata": {
    "id": "irlUoxc8YrdO"
   },
   "outputs": [
    {
     "data": {
      "image/png": "[encoded data removed]",
      "text/plain": [
       "<Figure size 1000x500 with 1 Axes>"
      ]
     },
     "metadata": {},
     "output_type": "display_data"
    }
   ],
   "source": [
    "# Chart - 4 visualization code\n",
    "daily_status = (\n",
    "    df.groupby([\"Request date\",\"Status\"])\n",
    "      .size()\n",
    "      .unstack(fill_value=0)\n",
    "      .sort_index()\n",
    ")\n",
    "\n",
    "daily_status.plot(figsize=(10,5))\n",
    "plt.title(\"Daily Trend of Ride Statuses\")\n",
    "plt.ylabel(\"Number of Requests\")\n",
    "plt.xlabel(\"Request Date\")\n",
    "plt.xticks(rotation=30)\n",
    "plt.legend(title=\"Status\")\n",
    "plt.show()"
   ]
  },
  {
   "cell_type": "markdown",
   "metadata": {
    "id": "iky9q4vBYrdO"
   },
   "source": [
    "##### 1. Why did you pick the specific chart?"
   ]
  },
  {
   "cell_type": "markdown",
   "metadata": {
    "id": "aJRCwT6DYrdO"
   },
   "source": [
    "A line chart shows how each status changed day by day over the sample period, highlighting trend breaks or sudden spikes that a weekly view might hide."
   ]
  },
  {
   "cell_type": "markdown",
   "metadata": {
    "id": "F6T5p64dYrdO"
   },
   "source": [
    "##### 2. What is/are the insight(s) found from the chart?"
   ]
  },
  {
   "cell_type": "markdown",
   "metadata": {
    "id": "Xx8WAJvtYrdO"
   },
   "source": [
    "The first few days saw a sharp rise in completed trips, then levelled off, while cancellations plateaued—suggesting that driver supply initially lagged demand before stabilising."
   ]
  },
  {
   "cell_type": "markdown",
   "metadata": {
    "id": "y-Ehk30pYrdP"
   },
   "source": [
    "##### 3. Will the gained insights help creating a positive business impact?\n",
    "Are there any insights that lead to negative growth? Justify with specific reason."
   ]
  },
  {
   "cell_type": "markdown",
   "metadata": {
    "id": "jLNxxz7MYrdP"
   },
   "source": [
    "Spotting these trend shifts early allows Uber to respond quickly (e.g., dispatch more drivers or adjust pricing) before service quality degrades."
   ]
  },
  {
   "cell_type": "markdown",
   "metadata": {
    "id": "bamQiAODYuh1"
   },
   "source": [
    "#### Chart - 5"
   ]
  },
  {
   "cell_type": "code",
   "execution_count": 27,
   "metadata": {
    "id": "TIJwrbroYuh3"
   },
   "outputs": [
    {
     "data": {
      "image/png": "[encoded data removed]",
      "text/plain": [
       "<Figure size 500x500 with 1 Axes>"
      ]
     },
     "metadata": {},
     "output_type": "display_data"
    }
   ],
   "source": [
    "# Chart - 5 visualization code\n",
    "monday_counts = (\n",
    "    df[df[\"DayOfWeek\"]==\"Monday\"][\"Status\"]\n",
    "      .value_counts()\n",
    "      .loc[[\"Trip Completed\",\"Cancelled\",\"No Cars Available\"]]\n",
    ")\n",
    "\n",
    "plt.figure(figsize=(5,5))\n",
    "plt.pie(\n",
    "    monday_counts,\n",
    "    labels=monday_counts.index,\n",
    "    autopct=\"%1.1f%%\",\n",
    "    startangle=90,\n",
    "    wedgeprops=dict(edgecolor=\"white\")\n",
    ")\n",
    "plt.title(\"Status Distribution on Monday\")\n",
    "plt.show()"
   ]
  },
  {
   "cell_type": "markdown",
   "metadata": {
    "id": "QHF8YVU7Yuh3"
   },
   "source": [
    "##### 1. Why did you pick the specific chart?"
   ]
  },
  {
   "cell_type": "markdown",
   "metadata": {
    "id": "dcxuIMRPYuh3"
   },
   "source": [
    "Stacking the statuses over each weekday makes it easy to compare how problems fluctuate through the week without losing sight of total request volume."
   ]
  },
  {
   "cell_type": "markdown",
   "metadata": {
    "id": "GwzvFGzlYuh3"
   },
   "source": [
    "##### 2. What is/are the insight(s) found from the chart?"
   ]
  },
  {
   "cell_type": "markdown",
   "metadata": {
    "id": "uyqkiB8YYuh3"
   },
   "source": [
    "Monday and Friday have noticeably higher counts of both cancellations and “No Cars,” signalling that start‑ and end‑of‑week travel pushes the system hardest."
   ]
  },
  {
   "cell_type": "markdown",
   "metadata": {
    "id": "qYpmQ266Yuh3"
   },
   "source": [
    "##### 3. Will the gained insights help creating a positive business impact?\n",
    "Are there any insights that lead to negative growth? Justify with specific reason."
   ]
  },
  {
   "cell_type": "markdown",
   "metadata": {
    "id": "_WtzZ_hCYuh4"
   },
   "source": [
    "By flagging Monday and Friday as high‑risk days, operations can schedule more drivers or run special promotions on those days, directly improving reliability."
   ]
  },
  {
   "cell_type": "markdown",
   "metadata": {
    "id": "JcMwzZxoAimU"
   },
   "source": [
    "## **5. Solution to Business Objective**"
   ]
  },
  {
   "cell_type": "markdown",
   "metadata": {
    "id": "8G2x9gOozGDZ"
   },
   "source": [
    "#### What do you suggest the client to achieve Business Objective ?\n",
    "Explain Briefly."
   ]
  },
  {
   "cell_type": "markdown",
   "metadata": {
    "id": "pASKb0qOza21"
   },
   "source": [
    "After analyzing the data, I would suggest the client focus on making more drivers available during the busy hours of the day — especially in the early mornings and evenings. These are the times when most customers are requesting rides, but many trips are either getting canceled or not assigned due to a lack of available cars. The company can also consider giving bonuses or incentives to drivers to encourage them to be active during these peak times. By doing this, the chances of completing more trips increase, which means more happy customers and more revenue for the company. Planning ahead using the patterns we saw in the data — like what times and days are busiest — will really help in improving overall performance."
   ]
  },
  {
   "cell_type": "markdown",
   "metadata": {
    "id": "gCX9965dhzqZ"
   },
   "source": [
    "# **Conclusion**"
   ]
  },
  {
   "cell_type": "markdown",
   "metadata": {
    "id": "Fjb1IsQkh3yE"
   },
   "source": [
    "In this project, I looked at when and why people couldn’t get an Uber ride. I found that most of the problems happened in the early morning and late at night — either the ride got cancelled or there were no cars available. This mostly happened around the airport and during busy hours. I used tools like Excel, SQL, and Python to understand these patterns. Based on what I found, I suggested that Uber can fix this by having more drivers available during those times and offering bonuses to encourage them. If they follow this, more rides can be completed, customers will be happier, and the business can grow better."
   ]
  },
  {
   "cell_type": "markdown",
   "metadata": {
    "id": "gIfDvo9L0UH2"
   },
   "source": [
    "### ***Hurrah! You have successfully completed your EDA Capstone Project !!!***"
   ]
  }
 ],
 "metadata": {
  "colab": {
   "collapsed_sections": [
    "vncDsAP0Gaoa",
    "FJNUwmbgGyua",
    "w6K7xa23Elo4",
    "yQaldy8SH6Dl",
    "PH-0ReGfmX4f",
    "mDgbUHAGgjLW",
    "O_i_v8NEhb9l",
    "HhfV-JJviCcP",
    "Y3lxredqlCYt",
    "3RnN4peoiCZX",
    "x71ZqKXriCWQ",
    "7hBIi_osiCS2",
    "JlHwYmJAmNHm",
    "35m5QtbWiB9F",
    "PoPl-ycgm1ru",
    "H0kj-8xxnORC",
    "nA9Y7ga8ng1Z",
    "PBTbrJXOngz2",
    "u3PMJOP6ngxN",
    "dauF4eBmngu3",
    "bKJF3rekwFvQ",
    "MSa1f5Uengrz",
    "GF8Ens_Soomf",
    "0wOQAZs5pc--",
    "K5QZ13OEpz2H",
    "lQ7QKXXCp7Bj",
    "448CDAPjqfQr",
    "KSlN3yHqYklG",
    "t6dVpIINYklI",
    "ijmpgYnKYklI",
    "-JiQyfWJYklI",
    "EM7whBJCYoAo",
    "fge-S5ZAYoAp",
    "85gYPyotYoAp",
    "RoGjAbkUYoAp",
    "4Of9eVA-YrdM",
    "iky9q4vBYrdO",
    "F6T5p64dYrdO",
    "y-Ehk30pYrdP",
    "bamQiAODYuh1",
    "QHF8YVU7Yuh3",
    "GwzvFGzlYuh3",
    "qYpmQ266Yuh3",
    "OH-pJp9IphqM",
    "bbFf2-_FphqN",
    "_ouA3fa0phqN",
    "Seke61FWphqN",
    "PIIx-8_IphqN",
    "t27r6nlMphqO",
    "r2jJGEOYphqO",
    "b0JNsNcRphqO",
    "BZR9WyysphqO",
    "jj7wYXLtphqO",
    "eZrbJ2SmphqO",
    "rFu4xreNphqO",
    "YJ55k-q6phqO",
    "gCFgpxoyphqP",
    "OVtJsKN_phqQ",
    "lssrdh5qphqQ",
    "U2RJ9gkRphqQ",
    "1M8mcRywphqQ",
    "tgIPom80phqQ",
    "JMzcOPDDphqR",
    "x-EpHcCOp1ci",
    "X_VqEhTip1ck",
    "8zGJKyg5p1ck",
    "PVzmfK_Ep1ck",
    "n3dbpmDWp1ck",
    "ylSl6qgtp1ck",
    "ZWILFDl5p1ck",
    "M7G43BXep1ck",
    "Ag9LCva-p1cl",
    "E6MkPsBcp1cl",
    "2cELzS2fp1cl",
    "3MPXvC8up1cl",
    "NC_X3p0fY2L0",
    "UV0SzAkaZNRQ",
    "YPEH6qLeZNRQ",
    "q29F0dvdveiT",
    "EXh0U9oCveiU",
    "22aHeOlLveiV",
    "JcMwzZxoAimU",
    "8G2x9gOozGDZ",
    "gCX9965dhzqZ",
    "gIfDvo9L0UH2"
   ],
   "private_outputs": true,
   "provenance": []
  },
  "kernelspec": {
   "display_name": "Python 3 (ipykernel)",
   "language": "python",
   "name": "python3"
  },
  "language_info": {
   "codemirror_mode": {
    "name": "ipython",
    "version": 3
   },
   "file_extension": ".py",
   "mimetype": "text/x-python",
   "name": "python",
   "nbconvert_exporter": "python",
   "pygments_lexer": "ipython3",
   "version": "3.13.5"
  }
 },
 "nbformat": 4,
 "nbformat_minor": 4
}
